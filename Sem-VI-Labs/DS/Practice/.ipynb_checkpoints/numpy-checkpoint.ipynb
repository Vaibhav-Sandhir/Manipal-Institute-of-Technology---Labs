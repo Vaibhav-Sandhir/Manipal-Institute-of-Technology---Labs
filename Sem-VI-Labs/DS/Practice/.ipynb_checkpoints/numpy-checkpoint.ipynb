{
 "cells": [
  {
   "cell_type": "code",
   "execution_count": 2,
   "metadata": {},
   "outputs": [],
   "source": [
    "import numpy as np"
   ]
  },
  {
   "cell_type": "markdown",
   "metadata": {},
   "source": [
    "### Array Creation"
   ]
  },
  {
   "cell_type": "code",
   "execution_count": 5,
   "metadata": {},
   "outputs": [
    {
     "name": "stdout",
     "output_type": "stream",
     "text": [
      "[ 2  5 10]\n",
      "int64\n"
     ]
    }
   ],
   "source": [
    "arr = np.array([2,5,10])\n",
    "print(arr)\n",
    "print(arr.dtype)"
   ]
  },
  {
   "cell_type": "code",
   "execution_count": 13,
   "metadata": {},
   "outputs": [
    {
     "name": "stdout",
     "output_type": "stream",
     "text": [
      "[[3 4 5]\n",
      " [6 7 8]]\n",
      "(2, 3)\n",
      "[[0. 0. 0. 0.]\n",
      " [0. 0. 0. 0.]]\n",
      "[[1. 1. 1.]\n",
      " [1. 1. 1.]\n",
      " [1. 1. 1.]]\n"
     ]
    }
   ],
   "source": [
    "arr = np.array([[3,4,5], [6,7,8]])\n",
    "print(arr)\n",
    "print(arr.shape)\n",
    "arr = np.zeros((2,4))\n",
    "print(arr)\n",
    "arr = np.ones((3,3))\n",
    "print(arr)"
   ]
  },
  {
   "cell_type": "code",
   "execution_count": 6,
   "metadata": {},
   "outputs": [
    {
     "name": "stdout",
     "output_type": "stream",
     "text": [
      "[10 15 20 25]\n",
      "[0.   0.25 0.5  0.75 1.   1.25 1.5  1.75 2.  ]\n"
     ]
    }
   ],
   "source": [
    "arr = np.arange(10, 30, 5) \n",
    "print(arr)\n",
    "arr = np.linspace(0, 2, 9) # Produces 9 numbers from 0 to 2(inclusive)\n",
    "print(arr)"
   ]
  },
  {
   "cell_type": "code",
   "execution_count": 3,
   "metadata": {},
   "outputs": [
    {
     "name": "stdout",
     "output_type": "stream",
     "text": [
      "[[ 0  1  2  3  4]\n",
      " [ 5  6  7  8  9]\n",
      " [10 11 12 13 14]]\n",
      "[[1 2 3]\n",
      " [4 5 6]]\n",
      "\n",
      "(2, 3)\n",
      "2\n",
      "3\n",
      "\n",
      "[[1 4]\n",
      " [2 5]\n",
      " [3 6]]\n",
      "6\n"
     ]
    }
   ],
   "source": [
    "arr = np.arange(15).reshape(3,5)\n",
    "print(arr)\n",
    "\n",
    "arr = np.array([[1,2,3],[4,5,6]])\n",
    "print(arr)\n",
    "print()\n",
    "print(arr.shape)\n",
    "print(arr.shape[0])\n",
    "print(arr.shape[1])\n",
    "print()\n",
    "print(arr.T)\n",
    "print(arr[1,2]) # row = 1 column = 2"
   ]
  },
  {
   "cell_type": "markdown",
   "metadata": {},
   "source": [
    "### Stacking\n"
   ]
  },
  {
   "cell_type": "code",
   "execution_count": 6,
   "metadata": {},
   "outputs": [
    {
     "name": "stdout",
     "output_type": "stream",
     "text": [
      "[[ 3  4  5]\n",
      " [12  6  1]\n",
      " [ 1  2  6]\n",
      " [-4  3  8]]\n",
      "[[ 3  4  5  1  2  6]\n",
      " [12  6  1 -4  3  8]]\n"
     ]
    }
   ],
   "source": [
    "arr1 = np.array([[3,4,5], [12,6,1]])\n",
    "arr2 = np.array([[1,2,6],[-4,3,8]])\n",
    "\n",
    "arr3 = np.vstack((arr1, arr2))\n",
    "print(arr3)\n",
    "arr3 = np.hstack((arr1, arr2))\n",
    "print(arr3)"
   ]
  }
 ],
 "metadata": {
  "kernelspec": {
   "display_name": "Python 3",
   "language": "python",
   "name": "python3"
  },
  "language_info": {
   "codemirror_mode": {
    "name": "ipython",
    "version": 3
   },
   "file_extension": ".py",
   "mimetype": "text/x-python",
   "name": "python",
   "nbconvert_exporter": "python",
   "pygments_lexer": "ipython3",
   "version": "3.10.12"
  }
 },
 "nbformat": 4,
 "nbformat_minor": 2
}
